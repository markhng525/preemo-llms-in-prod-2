{
 "cells": [
  {
   "cell_type": "code",
   "execution_count": null,
   "metadata": {},
   "outputs": [],
   "source": [
    "from constants import LOCAL_MODELS_ROOT, HF_MODELS_ROOT\n",
    "import transformers\n",
    "from pathlib import Path\n",
    "from peft import LoraConfig, PeftModelForSeq2SeqLM"
   ]
  },
  {
   "cell_type": "code",
   "execution_count": null,
   "metadata": {},
   "outputs": [],
   "source": [
    "lora_model_adapter_path = \"/mnt/ml-data/output/gsm8k-exp/05_27_2023_00_01_09/checkpoints/-finetuned-model-step-7500\"\n",
    "model_path_or_id = (\n",
    "    f\"{LOCAL_MODELS_ROOT}/flan-ul2\"\n",
    "    if Path(f\"{LOCAL_MODELS_ROOT}/flan-ul2\").exists()\n",
    "    else f\"{HF_MODELS_ROOT}/flan-ul2\"\n",
    ")\n",
    "\n",
    "config = LoraConfig(\n",
    "    peft_type=\"LORA\",\n",
    "    base_model_name_or_path=model_path_or_id,\n",
    "    task_type=\"SEQ_2_SEQ_LM\",\n",
    ")\n",
    "\n",
    "tokenizer = transformers.AutoTokenizer.from_pretrained(\n",
    "    pretrained_model_name_or_path=model_path_or_id\n",
    ")\n",
    "\n",
    "model = transformers.AutoModelForSeq2SeqLM.from_pretrained(\n",
    "    pretrained_model_name_or_path=config.base_model_name_or_path,\n",
    "    trust_remote_code=True,\n",
    "    return_dict=True,\n",
    ")\n",
    "\n",
    "model = PeftModelForSeq2SeqLM.from_pretrained(\n",
    "    model=model,\n",
    "    model_id=lora_model_adapter_path,\n",
    ")\n"
   ]
  }
 ],
 "metadata": {
  "kernelspec": {
   "display_name": ".venv",
   "language": "python",
   "name": "python3"
  },
  "language_info": {
   "codemirror_mode": {
    "name": "ipython",
    "version": 3
   },
   "file_extension": ".py",
   "mimetype": "text/x-python",
   "name": "python",
   "nbconvert_exporter": "python",
   "pygments_lexer": "ipython3",
   "version": "3.10.10"
  },
  "orig_nbformat": 4
 },
 "nbformat": 4,
 "nbformat_minor": 2
}
